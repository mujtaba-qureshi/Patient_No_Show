{
 "cells": [
  {
   "cell_type": "markdown",
   "metadata": {},
   "source": [
    "## Introduction\n",
    "\n",
    "This is the best exercise of all. In this exercise we will choose the **best classification model** with the **best performing parameters** for our Patient_No_Show data.\n",
    "\n",
    "We will use **GridSearchCV** and **RandomizedGridSearchCV** to select the best parameters.\n",
    "\n",
    "We will create a **model-parameter-grid** which will provide us the best scoring parameters for every model, helping us choose the best model for **Patient No_Show** prediction\n",
    "\n",
    "As a *recap*, we have the following **Supervised Learning Classifiers/Models**\n",
    "1. LogisticRegression\n",
    "2. DecisionTree / RandomForestClassifier\n",
    "3. Support Vector Machine (SVC)\n",
    "4. Naive Bayes\n",
    "    - GaussianNB\n",
    "    - MultinomialNB\n",
    "\n",
    "We will be testing all these models with multiple parameters to identify the best performer.\n",
    "\n",
    "**Note**: Previously we had identified **DecisionTree/RandomForestClassifier** as the better performing model with an *accuracy score* score of **74.6%**. We will use this as a benchmark\n"
   ]
  },
  {
   "cell_type": "code",
   "execution_count": null,
   "metadata": {},
   "outputs": [],
   "source": []
  }
 ],
 "metadata": {
  "kernelspec": {
   "display_name": "Python 3",
   "language": "python",
   "name": "python3"
  },
  "language_info": {
   "codemirror_mode": {
    "name": "ipython",
    "version": 3
   },
   "file_extension": ".py",
   "mimetype": "text/x-python",
   "name": "python",
   "nbconvert_exporter": "python",
   "pygments_lexer": "ipython3",
   "version": "3.7.6"
  }
 },
 "nbformat": 4,
 "nbformat_minor": 4
}
