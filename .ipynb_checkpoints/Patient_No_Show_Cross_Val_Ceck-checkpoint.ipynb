{
 "cells": [
  {
   "cell_type": "markdown",
   "metadata": {},
   "source": [
    "## Introduction\n",
    "\n",
    "This exercise is performed to check the performance of the following Classifiers using the K_Fold Cross Validation check.\n",
    "1. Decision Tree (previously modelled)\n",
    "2. Support Vector Machine (SVC)\n",
    "3. Random Forest\n",
    "\n",
    "We are also going to see whether using a differnt parameters on the Decision Tree e.g. *max_leaf_nodes* and *class_weight* will help improve the model accuracy.\n",
    "\n",
    "The K_Fold cross validation is a technique to *evaluate model performance*. We will use this technique to decide which type of model should be applied on the **patient_no_show** data to get maximum accuracy.\n",
    "\n",
    "*Reminder*: We are creating a model to predict **if patients fail to show up to their doctor appointments**."
   ]
  },
  {
   "cell_type": "code",
   "execution_count": 2,
   "metadata": {},
   "outputs": [],
   "source": [
    "#importing required libraries\n",
    "\n",
    "import pandas as pd\n",
    "import numpy as no\n",
    "\n",
    "#importing sklearn libraries\n",
    "\n",
    "from sklearn.model_selection import train_test_split\n",
    "from sklearn.model_selection import StratifiedKFold\n",
    "from sklearn.model_selection import cross_val_score\n",
    "\n",
    "from sklearn import tree  #Decision Tree\n",
    "from sklearn.svm import SVC  #Support Vector Machine\n",
    "from sklearn.ensemble import RandomForestClassifier  #Random Forest\n"
   ]
  },
  {
   "cell_type": "code",
   "execution_count": 3,
   "metadata": {},
   "outputs": [],
   "source": [
    "#importing the data into a df\n",
    "\n",
    "df = pd.read_csv('no_show_data_clean.csv')"
   ]
  },
  {
   "cell_type": "code",
   "execution_count": null,
   "metadata": {},
   "outputs": [],
   "source": []
  }
 ],
 "metadata": {
  "kernelspec": {
   "display_name": "Python 3",
   "language": "python",
   "name": "python3"
  },
  "language_info": {
   "codemirror_mode": {
    "name": "ipython",
    "version": 3
   },
   "file_extension": ".py",
   "mimetype": "text/x-python",
   "name": "python",
   "nbconvert_exporter": "python",
   "pygments_lexer": "ipython3",
   "version": "3.7.6"
  }
 },
 "nbformat": 4,
 "nbformat_minor": 4
}
